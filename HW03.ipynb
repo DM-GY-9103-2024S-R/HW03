{
 "cells": [
  {
   "cell_type": "markdown",
   "metadata": {},
   "source": [
    "## HW03\n",
    "\n",
    "Some exercises with text, audio and images"
   ]
  },
  {
   "cell_type": "markdown",
   "metadata": {},
   "source": [
    "### Import helpers\n",
    "\n",
    "Run the following 2 cells to import helper functions, files and libraries"
   ]
  },
  {
   "cell_type": "code",
   "execution_count": null,
   "metadata": {},
   "outputs": [],
   "source": [
    "!wget -q https://github.com/DM-GY-9103-2024S-R/9103-utils/raw/main/src/io_utils.py"
   ]
  },
  {
   "cell_type": "code",
   "execution_count": null,
   "metadata": {},
   "outputs": [],
   "source": [
    "from IPython.display import Audio\n",
    "from PIL import Image\n",
    "\n",
    "import matplotlib.pyplot as plt\n",
    "\n",
    "from io_utils import wav_to_list, list_to_wav"
   ]
  },
  {
   "cell_type": "markdown",
   "metadata": {},
   "source": [
    "### Loading audio files\n",
    "\n",
    "We'll use the pre-define helper function `wav_to_list()` to read a `.wav` file and put its samples in a list.\n",
    "\n",
    "We can then get some info about this list, like its length, and what its samples look like."
   ]
  },
  {
   "cell_type": "code",
   "execution_count": null,
   "metadata": {},
   "outputs": [],
   "source": [
    "wv01 = wav_to_list(\"data/sounds/secret_01.wav\")\n",
    "\n",
    "print(len(wv01))\n",
    "\n",
    "print(wv01[:10])\n",
    "print(wv01[-10:])\n",
    "print(wv01[5000: 5010])"
   ]
  },
  {
   "cell_type": "markdown",
   "metadata": {},
   "source": [
    "### We can visualize the sound wave using matplotlib"
   ]
  },
  {
   "cell_type": "code",
   "execution_count": null,
   "metadata": {},
   "outputs": [],
   "source": [
    "plt.plot(wv01)\n",
    "plt.show()"
   ]
  },
  {
   "cell_type": "markdown",
   "metadata": {},
   "source": [
    "### Playing audio files\n",
    "\n",
    "We can play audio files with the following command:"
   ]
  },
  {
   "cell_type": "code",
   "execution_count": null,
   "metadata": {},
   "outputs": [],
   "source": [
    "display(Audio(\"data/sounds/secret_01.wav\"))"
   ]
  },
  {
   "cell_type": "markdown",
   "metadata": {},
   "source": [
    "### Hmmm 🤔... \n",
    "\n",
    "The audio sounded incomplete, like it got chopped halfway through a sentence.\n",
    "\n",
    "If we look at the plot above we can see that there is information in the second half, but it might just be too soft."
   ]
  },
  {
   "cell_type": "markdown",
   "metadata": {},
   "source": [
    "### Exercise 01\n",
    "\n",
    "We'll have to go through the list of samples and amplify the second half of the audio to hear the hint for the next exercise.\n",
    "\n",
    "We'll create a new list where we'll store the \"fixed\" samples and then write them out to a file called `data/sounds/solution_01.wav`, so we can hear it."
   ]
  },
  {
   "cell_type": "code",
   "execution_count": null,
   "metadata": {
    "tags": [
     "work_cell"
    ]
   },
   "outputs": [],
   "source": [
    "# Work on exercise 01 here\n",
    "\n",
    "amp_wv = []\n",
    "\n",
    "for i, sample in enumerate(wv01):\n",
    "  # maybe look at the amplitude of the samples\n",
    "  # or just amplify the samples on the second half of the list\n",
    "  pass\n"
   ]
  },
  {
   "cell_type": "markdown",
   "metadata": {},
   "source": [
    "### Check Exercise 01\n",
    "\n",
    "Run this cell to see the wave with the new samples and to play the fixed sound."
   ]
  },
  {
   "cell_type": "code",
   "execution_count": null,
   "metadata": {},
   "outputs": [],
   "source": [
    "plt.plot(amp_wv)\n",
    "plt.show()\n",
    "\n",
    "list_to_wav(amp_wv, \"data/sounds/solution_01.wav\")\n",
    "\n",
    "display(Audio(\"data/sounds/solution_01.wav\"))"
   ]
  },
  {
   "cell_type": "markdown",
   "metadata": {},
   "source": [
    "### Sound 02\n",
    "\n",
    "Well, here's the second sound. The previous audio gave a pretty good hint of how to fix it."
   ]
  },
  {
   "cell_type": "code",
   "execution_count": null,
   "metadata": {},
   "outputs": [],
   "source": [
    "wv02 = wav_to_list(\"data/sounds/secret_02.wav\")\n",
    "\n",
    "plt.plot(wv02)\n",
    "plt.show()\n",
    "\n",
    "display(Audio(\"data/sounds/secret_02.wav\"))"
   ]
  },
  {
   "cell_type": "markdown",
   "metadata": {},
   "source": [
    "### Exercise 02\n",
    "\n",
    "We'll have to turn it around.\n",
    "\n",
    "Again, we'll create a new list with the \"fixed\" samples and then write them out to a file called `data/sounds/solution_02.wav`, so we can hear it."
   ]
  },
  {
   "cell_type": "code",
   "execution_count": null,
   "metadata": {
    "tags": [
     "work_cell"
    ]
   },
   "outputs": [],
   "source": [
    "# Work on exercise 02 here\n",
    "\n",
    "rev_wv = []\n",
    "\n",
    "for i, sample in enumerate(wv02):\n",
    "  # as we go through the indexes 0, 1, 2, etc ...\n",
    "  # what index should the new samples be coming from ?\n",
    "  pass\n"
   ]
  },
  {
   "cell_type": "markdown",
   "metadata": {},
   "source": [
    "### Check Exercise 02\n",
    "\n",
    "Run this cell to see the wave with the new samples and to play the fixed sound."
   ]
  },
  {
   "cell_type": "code",
   "execution_count": null,
   "metadata": {},
   "outputs": [],
   "source": [
    "plt.plot(rev_wv)\n",
    "plt.show()\n",
    "\n",
    "list_to_wav(rev_wv, \"data/sounds/solution_02.wav\")\n",
    "\n",
    "display(Audio(\"data/sounds/solution_02.wav\"))"
   ]
  },
  {
   "cell_type": "markdown",
   "metadata": {},
   "source": [
    "### Sound 03\n",
    "\n",
    "Let's keep going. Here's sound 3. Let's take a look and a listen.\n",
    "\n",
    "### ❗️❗️ WARNING ❗️❗️\n",
    "This audio file is kind of distorted and loud. Turn down or remove headphones."
   ]
  },
  {
   "cell_type": "code",
   "execution_count": null,
   "metadata": {},
   "outputs": [],
   "source": [
    "wv03 = wav_to_list(\"data/sounds/secret_03.wav\")\n",
    "\n",
    "plt.plot(wv03)\n",
    "plt.show()\n",
    "\n",
    "display(Audio(\"data/sounds/secret_03.wav\"))"
   ]
  },
  {
   "cell_type": "markdown",
   "metadata": {},
   "source": [
    "### Exercise 03\n",
    "\n",
    "We'll have to move the wave.\n",
    "\n",
    "Again, we'll create a new list with the \"fixed\" samples and then write them out to a file called `data/sounds/solution_03.wav`, so we can hear it."
   ]
  },
  {
   "cell_type": "code",
   "execution_count": null,
   "metadata": {
    "tags": [
     "work_cell"
    ]
   },
   "outputs": [],
   "source": [
    "# Work on exercise 03 here\n",
    "\n",
    "up_wv = []\n",
    "\n",
    "for sample in wv03:\n",
    "  # as we go through the samples,\n",
    "  # we have to bring them \"up\" somehow\n",
    "  pass\n"
   ]
  },
  {
   "cell_type": "markdown",
   "metadata": {},
   "source": [
    "### Check Exercise 03\n",
    "\n",
    "Run this cell to see the wave with the new samples and to play the fixed sound."
   ]
  },
  {
   "cell_type": "code",
   "execution_count": null,
   "metadata": {},
   "outputs": [],
   "source": [
    "plt.plot(up_wv)\n",
    "plt.show()\n",
    "\n",
    "list_to_wav(up_wv, \"data/sounds/solution_03.wav\")\n",
    "\n",
    "display(Audio(\"data/sounds/solution_03.wav\"))"
   ]
  },
  {
   "cell_type": "markdown",
   "metadata": {},
   "source": [
    "### Sound 04\n",
    "\n",
    "And here's sound 4."
   ]
  },
  {
   "cell_type": "code",
   "execution_count": null,
   "metadata": {},
   "outputs": [],
   "source": [
    "wv04 = wav_to_list(\"data/sounds/secret_04.wav\")\n",
    "\n",
    "plt.plot(wv04)\n",
    "plt.show()\n",
    "\n",
    "display(Audio(\"data/sounds/secret_04.wav\"))"
   ]
  },
  {
   "cell_type": "markdown",
   "metadata": {},
   "source": [
    "### Exercise 04\n",
    "\n",
    "We'll have to sub-sample the list.\n",
    "\n",
    "Again, we'll create a new list with the \"fixed\" samples and then write them out to a file called `data/sounds/solution_04.wav`."
   ]
  },
  {
   "cell_type": "code",
   "execution_count": null,
   "metadata": {
    "tags": [
     "work_cell"
    ]
   },
   "outputs": [],
   "source": [
    "# Work on exercise 04 here\n",
    "\n",
    "unzip_wv = []\n",
    "\n",
    "for i, sample in enumerate(wv04):\n",
    "  # as we go through the list, we only keep some of the samples\n",
    "  # the mod operator (%) can help here\n",
    "  pass\n"
   ]
  },
  {
   "cell_type": "markdown",
   "metadata": {},
   "source": [
    "### Check Exercise 04\n",
    "\n",
    "Run this cell to see the wave with the new samples and to play the fixed sound."
   ]
  },
  {
   "cell_type": "code",
   "execution_count": null,
   "metadata": {},
   "outputs": [],
   "source": [
    "plt.plot(unzip_wv)\n",
    "plt.show()\n",
    "\n",
    "list_to_wav(unzip_wv, \"data/sounds/solution_04.wav\")\n",
    "\n",
    "display(Audio(\"data/sounds/solution_04.wav\"))"
   ]
  },
  {
   "cell_type": "markdown",
   "metadata": {},
   "source": [
    "### Sound 05\n",
    "\n",
    "So for this last one, the sound file or list of samples is actually the same one that was decoded above.\n"
   ]
  },
  {
   "cell_type": "code",
   "execution_count": null,
   "metadata": {},
   "outputs": [],
   "source": [
    "wv05 = wav_to_list(\"data/sounds/solution_04.wav\")"
   ]
  },
  {
   "cell_type": "markdown",
   "metadata": {},
   "source": [
    "### Exercise 05\n",
    "\n",
    "We'll have to sub-sample the list again. It's the same tactic, and possibly the same code as above.\n",
    "\n",
    "We'll create a new list with the \"fixed\" samples, but we won't write them out just yet."
   ]
  },
  {
   "cell_type": "code",
   "execution_count": null,
   "metadata": {
    "tags": [
     "work_cell"
    ]
   },
   "outputs": [],
   "source": [
    "# Work on exercise 05 here\n",
    "\n",
    "sample_wv = []\n",
    "\n",
    "for i, sample in enumerate(wv05):\n",
    "  # as we go through the list, we only keep some of the samples\n",
    "  # the mod operator (%) can help here\n",
    "  pass\n"
   ]
  },
  {
   "cell_type": "markdown",
   "metadata": {},
   "source": [
    "### Check Exercise 05\n",
    "\n",
    "In order to re-interpret these samples as an image we have to first count how many samples our new list has, and use that to determine the size of our square image.\n",
    "\n",
    "Since an $n \\times n$ image has $n^2$ pixels, if our list has $16$ samples our image will be $4 \\times 4$, if it has $1024$ samples, it will be $32 \\times 32$, etc.\n",
    "\n",
    "Since $\\sqrt{n} = n^{0.5}$, in python we can take the square root of a number by doing `n ** 0.5`."
   ]
  },
  {
   "cell_type": "code",
   "execution_count": null,
   "metadata": {
    "tags": [
     "work_cell"
    ]
   },
   "outputs": [],
   "source": [
    "# fill this out with the image dimension based on the number of samples in the sample_wv list\n",
    "\n",
    "img_dim = 0"
   ]
  },
  {
   "cell_type": "markdown",
   "metadata": {},
   "source": [
    "### And finally...\n",
    "\n",
    "Now we can run this cell to put the samples we got from the sound file into an image and display it"
   ]
  },
  {
   "cell_type": "code",
   "execution_count": null,
   "metadata": {},
   "outputs": [],
   "source": [
    "im = Image.new(\"L\", (int(img_dim), int(img_dim)))\n",
    "im.putdata(sample_wv)\n",
    "display(im)"
   ]
  }
 ],
 "metadata": {
  "kernelspec": {
   "display_name": "hf-model",
   "language": "python",
   "name": "python3"
  },
  "language_info": {
   "codemirror_mode": {
    "name": "ipython",
    "version": 3
   },
   "file_extension": ".py",
   "mimetype": "text/x-python",
   "name": "python",
   "nbconvert_exporter": "python",
   "pygments_lexer": "ipython3",
   "version": "3.10.13"
  }
 },
 "nbformat": 4,
 "nbformat_minor": 2
}
